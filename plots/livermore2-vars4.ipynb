{
 "cells": [
  {
   "cell_type": "code",
   "execution_count": 2,
   "metadata": {
    "collapsed": true,
    "ExecuteTime": {
     "end_time": "2023-08-08T01:52:00.405766538Z",
     "start_time": "2023-08-08T01:52:00.393876043Z"
    }
   },
   "outputs": [],
   "source": [
    "import seaborn as sns\n",
    "import pandas as pd\n",
    "%matplotlib inline\n",
    "import matplotlib.pyplot as plt\n",
    "from matplotlib import rc\n",
    "import os\n",
    "palette=['#ff3b30', '#007aff', '#4cd964','#ffcc00', '#5856d6', '#ff9500', '#5ac8fa']\n",
    "markers=['o', '^', '<', 'd', '*','2']\n",
    "sns.set_style(\"ticks\")\n",
    "import matplotlib as mpl\n",
    "mpl.rcParams['lines.markersize'] = 6\n",
    "mpl.rcParams['lines.linewidth']=1\n",
    "rc(\"font\", **{'family':'serif','serif':['Palatino'], 'size':14})\n",
    "rc('text', usetex=True)"
   ]
  },
  {
   "cell_type": "code",
   "execution_count": 50,
   "outputs": [],
   "source": [
    "basepath=\"./\"\n",
    "\n",
    "def plot_one_metric(total, name, title, metric_name, show_title=False, show_ylabel=True):\n",
    "\n",
    "    model=[]\n",
    "    typed=[]\n",
    "    for line in total.split(\"\\n\"):\n",
    "        spl=line.split(\"\\t\")\n",
    "        result=[abs(float(x)) for x in spl[1:] if len(x)>1 and x!='nan']\n",
    "        model.extend(result)\n",
    "        typed.extend([spl[0],]*len(result))\n",
    "        # print(spl)\n",
    "\n",
    "    df=pd.DataFrame({\n",
    "        \"model\": model,\n",
    "        \"type\": typed\n",
    "    })\n",
    "\n",
    "    print(df.head())\n",
    "    plt.figure(figsize=(3,3))\n",
    "    ax=sns.boxplot(data=df, x=\"model\", y=\"type\",\n",
    "                   showfliers=False,\n",
    "                   width=0.5,\n",
    "                    palette=palette)\n",
    "    if show_title==True:\n",
    "        ax.set_title(title, fontsize=16)\n",
    "\n",
    "    ax.set(xlabel=metric_name, ylabel='')\n",
    "    # plt.xscale('log', base=2)\n",
    "#     if show_ylabel==False:\n",
    "#         ax.set(yticklabels=[])\n",
    "    plt.yticks(rotation=40)\n",
    "#\n",
    "    fname = os.path.join(basepath, name+\"_metric.pdf\")\n",
    "    plt.savefig(fname, bbox_inches='tight', pad_inches=0)"
   ],
   "metadata": {
    "collapsed": false,
    "ExecuteTime": {
     "end_time": "2023-08-08T04:06:59.958626282Z",
     "start_time": "2023-08-08T04:06:59.949365932Z"
    }
   }
  },
  {
   "cell_type": "code",
   "execution_count": 52,
   "outputs": [
    {
     "name": "stdout",
     "output_type": "stream",
     "text": [
      "          model               type\n",
      "0  1.440000e-32  Racing-CVGP(ours)\n",
      "1  3.750000e-22  Racing-CVGP(ours)\n",
      "2  5.850000e-24  Racing-CVGP(ours)\n",
      "3  1.017368e+00  Racing-CVGP(ours)\n",
      "4  1.887383e-03  Racing-CVGP(ours)\n"
     ]
    },
    {
     "data": {
      "text/plain": "<Figure size 300x300 with 1 Axes>",
      "image/png": "[encoded data removed]"
     },
     "metadata": {},
     "output_type": "display_data"
    }
   ],
   "source": [
    "total=\"\"\"Racing-CVGP(ours)\t-1.44E-32\t-3.75E-22\t-5.85E-24\t-1.01736761\t-0.001887382773\t-2.23E-07\t\t-0.002030782963\t-0.03088917752\t-0.0007437062367\t-0.02538788085\t-3.04E-19\t-1.20E-18\t\t-0.005754073865\t-0.0001204330845\t-8.92E-33\t-1.65E-08\t-1.86E-19\t-3.77E-16\t-4.24E-17\t-2.76E-23\t-0.0006380206222\t-9.36E-20\t-0.03861337403\n",
    "DSR\t-0.03661959169\t-0.1869667572\t-0.006891363238\tnan\t-0.04088115811\tnan\t-0.03247059829\t-0.02132335875\t-0.003652979758\t-0.02765746778\t-0.06312558258\tnan\t-0.01550787113\t-5.19E-05\t-0.0007528323416\t-0.1272793779\tnan\t-0.05083636719\n",
    "PQT\t-0.05841767298\t-0.3468055675\t-0.005058416827\tnan\t-0.032960915\tnan\t-0.04754443116\t-0.04303611043\t-0.004316424382\t-0.04173362974\t-0.06704397719\t-0.01590782107\t-0.01354455582\t-8.11E-05\t-0.0006731047779\t-0.1294527259\tnan\t-0.1001764104\n",
    "VPG\t-0.09830285988\t-0.3995203836\t-0.006512648194\tnan\t-0.03854901427\tnan\t-0.033932349\t-0.03500024289\t-0.003343837115\t-0.07474390559\t-0.06099223327\tnan\t-0.01896260281\t-9.59E-06\t-0.0005824194903\t-0.1651830414\tnan\t-0.07054334339\n",
    "GPMeld\t-0.05401305928\t-0.1454699521\t-0.005030187493\tnan\t-0.03047926694\tnan\t-0.03704442841\t-0.02436755723\t-0.002781843605\t-0.06288739277\t-0.07780417911\tnan\t-0.02009915113\t-5.76E-05\t-0.0005238057617\t-0.1506403164\tnan\t-0.02790485775\"\"\"\n",
    "metric_name=\"NMSE\"\n",
    "name=\"Livermore2 (n=4)\"\n",
    "title=name\n",
    "plot_one_metric(total, name, title,metric_name=metric_name, show_title=True, show_ylabel=True)"
   ],
   "metadata": {
    "collapsed": false,
    "ExecuteTime": {
     "end_time": "2023-08-08T04:21:46.479163690Z",
     "start_time": "2023-08-08T04:21:46.003392758Z"
    }
   }
  },
  {
   "cell_type": "code",
   "execution_count": 49,
   "outputs": [
    {
     "data": {
      "text/plain": "'/home/jiangnan/PycharmProjects/scibench/plots'"
     },
     "execution_count": 49,
     "metadata": {},
     "output_type": "execute_result"
    }
   ],
   "source": [
    "metric_name=\"NMSE\"\n",
    "name=\"Livermore2 (n=5)\"\n",
    "title=name\n",
    "plot_one_metric(total, name, title,metric_name=metric_name, show_title=True, show_ylabel=True)"
   ],
   "metadata": {
    "collapsed": false,
    "ExecuteTime": {
     "end_time": "2023-08-08T04:06:53.816528441Z",
     "start_time": "2023-08-08T04:06:53.803446096Z"
    }
   }
  },
  {
   "cell_type": "code",
   "execution_count": null,
   "outputs": [],
   "source": [
    "metric_name=\"NMSE\"\n",
    "name=\"Livermore2 (n=6)\"\n",
    "title=name\n",
    "plot_one_metric(total, name, title,metric_name=metric_name, show_title=True, show_ylabel=True)"
   ],
   "metadata": {
    "collapsed": false
   }
  }
 ],
 "metadata": {
  "kernelspec": {
   "display_name": "Python 3",
   "language": "python",
   "name": "python3"
  },
  "language_info": {
   "codemirror_mode": {
    "name": "ipython",
    "version": 2
   },
   "file_extension": ".py",
   "mimetype": "text/x-python",
   "name": "python",
   "nbconvert_exporter": "python",
   "pygments_lexer": "ipython2",
   "version": "2.7.6"
  }
 },
 "nbformat": 4,
 "nbformat_minor": 0
}
